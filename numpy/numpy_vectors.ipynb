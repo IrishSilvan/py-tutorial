{
 "cells": [
  {
   "cell_type": "markdown",
   "metadata": {},
   "source": [
    "## Особенности вычислений Numpy\n",
    "\n",
    "Во многих языках программирования для вычисления каких-либо значений в массиве (среднее арифметическое, максимум, минимум, поиск обратных значений и т.д.) применяются циклы. В numpy необходимости в циклах нет. "
   ]
  },
  {
   "cell_type": "code",
   "execution_count": 1,
   "metadata": {},
   "outputs": [
    {
     "data": {
      "text/plain": [
       "'1.16.4'"
      ]
     },
     "execution_count": 1,
     "metadata": {},
     "output_type": "execute_result"
    }
   ],
   "source": [
    "import numpy as np               # Import numpy\n",
    "import matplotlib.pyplot as plt  # Import plots\n",
    "%matplotlib inline\n",
    "np.__version__"
   ]
  },
  {
   "cell_type": "markdown",
   "metadata": {},
   "source": [
    "Рассмотрим следующий пример.\n",
    "\n",
    "Создадим функцию вычисления обратного числа, т.е. `y = 1 / x`. На входе - массив значений, на выходе - массив обратных чисел.\n",
    "Реализуем эту функцию через циклы:"
   ]
  },
  {
   "cell_type": "code",
   "execution_count": 2,
   "metadata": {},
   "outputs": [],
   "source": [
    "# Calculate 1 / x:\n",
    "def calc_div(x):\n",
    "    return [1.0 / i for i in x]\n",
    "\n",
    "# Random array\n",
    "np.random.seed(1)\n",
    "darr = np.random.randint(1, 100, 500)"
   ]
  },
  {
   "cell_type": "markdown",
   "metadata": {},
   "source": [
    "Подсчитаем время выполнения функии:"
   ]
  },
  {
   "cell_type": "code",
   "execution_count": 3,
   "metadata": {},
   "outputs": [
    {
     "name": "stdout",
     "output_type": "stream",
     "text": [
      "1.3 ms ± 6.82 µs per loop (mean ± std. dev. of 5 runs, 10000 loops each)\n"
     ]
    }
   ],
   "source": [
    "%timeit -n 10000 -r 5 calc_div(darr)"
   ]
  },
  {
   "cell_type": "markdown",
   "metadata": {},
   "source": [
    "Проделаем эту же операцию упрощенным способом (numpy-style):"
   ]
  },
  {
   "cell_type": "code",
   "execution_count": 4,
   "metadata": {},
   "outputs": [
    {
     "name": "stdout",
     "output_type": "stream",
     "text": [
      "4.06 µs ± 445 ns per loop (mean ± std. dev. of 5 runs, 10000 loops each)\n"
     ]
    }
   ],
   "source": [
    "%timeit -n 10000 -r 5 (1.0 / darr)"
   ]
  },
  {
   "cell_type": "markdown",
   "metadata": {},
   "source": [
    "Как видно, время вычисления по второму способу многократно меньше. Первый способ значительно медленнее в связи с тем, что при каждой итерации *Python* проверяет тип элемента массива и выбирает функцию, которая соответствует для данного типа оператора. Если тип каждого элемента был бы известен заранее, то таких накладных расходов не было.\n",
    "\n",
    "Numpy позволяет избежать увеличения времени выполнения функции и накладных расходов на проверку типов. Такие операции называются в numpy векторизованными, т.к. применяются сразу ко всему вектору. \n",
    "\n",
    "Следующий пример вычисляет математическое ожидание двумя способами: через функцию и через метод `mean()`. Сравним время вычисления:"
   ]
  },
  {
   "cell_type": "code",
   "execution_count": 5,
   "metadata": {},
   "outputs": [],
   "source": [
    "# Calculate average value:\n",
    "def calc_mean(x):\n",
    "    m = 0\n",
    "    for i in x:\n",
    "        m += i\n",
    "    return m / len(x)"
   ]
  },
  {
   "cell_type": "code",
   "execution_count": 6,
   "metadata": {},
   "outputs": [
    {
     "name": "stdout",
     "output_type": "stream",
     "text": [
      "64.4 µs ± 150 ns per loop (mean ± std. dev. of 7 runs, 10000 loops each)\n"
     ]
    }
   ],
   "source": [
    "%timeit calc_mean(darr)"
   ]
  },
  {
   "cell_type": "code",
   "execution_count": 7,
   "metadata": {},
   "outputs": [
    {
     "name": "stdout",
     "output_type": "stream",
     "text": [
      "11.1 µs ± 352 ns per loop (mean ± std. dev. of 7 runs, 100000 loops each)\n"
     ]
    }
   ],
   "source": [
    "%timeit darr.mean()"
   ]
  },
  {
   "cell_type": "markdown",
   "metadata": {},
   "source": [
    "Аналогично предыдущему примеру - вычисление среднего значения с помощью векторизованных вычислений в numpy - быстрее.\n",
    "\n",
    "Numpy позволяет выполнять векторизованные вычисления между любым количеством массивов.\n",
    "Пример: *сложить два вектора*: решим задачу через циклы и через векторизованые операции numpy."
   ]
  },
  {
   "cell_type": "code",
   "execution_count": 8,
   "metadata": {},
   "outputs": [],
   "source": [
    "def calc_add(x, y):\n",
    "    s = np.zeros(len(x))\n",
    "    for i in range(len(x)):\n",
    "        s[i] = x[i] + y[i]\n",
    "    return s"
   ]
  },
  {
   "cell_type": "code",
   "execution_count": 9,
   "metadata": {},
   "outputs": [],
   "source": [
    "np.random.seed(1)\n",
    "x = np.random.randint(0, 10, 10)\n",
    "y = np.random.randint(0, 10, 10)"
   ]
  },
  {
   "cell_type": "markdown",
   "metadata": {},
   "source": [
    "Проверим, что реализованная функция и векторизованное вычисление numpy дают одинаковый результат:"
   ]
  },
  {
   "cell_type": "code",
   "execution_count": 10,
   "metadata": {},
   "outputs": [
    {
     "data": {
      "text/plain": [
       "True"
      ]
     },
     "execution_count": 10,
     "metadata": {},
     "output_type": "execute_result"
    }
   ],
   "source": [
    "(calc_add(x, y) == (x+y)).all()   # Check if ALL elements are TRUE"
   ]
  },
  {
   "cell_type": "code",
   "execution_count": 11,
   "metadata": {},
   "outputs": [
    {
     "name": "stdout",
     "output_type": "stream",
     "text": [
      "5.46 µs ± 76 ns per loop (mean ± std. dev. of 7 runs, 100000 loops each)\n"
     ]
    }
   ],
   "source": [
    "%timeit calc_add(x, y)"
   ]
  },
  {
   "cell_type": "code",
   "execution_count": 12,
   "metadata": {},
   "outputs": [
    {
     "name": "stdout",
     "output_type": "stream",
     "text": [
      "469 ns ± 0.544 ns per loop (mean ± std. dev. of 7 runs, 1000000 loops each)\n"
     ]
    }
   ],
   "source": [
    "%timeit (x+y)"
   ]
  },
  {
   "cell_type": "markdown",
   "metadata": {},
   "source": [
    "Векторизованные вычисления также возможны и для многомерных массивов. Кроме того, можно указать ось, по которой выполняются вычисления (строка или столбец для двумерных массивов)."
   ]
  },
  {
   "cell_type": "code",
   "execution_count": 13,
   "metadata": {},
   "outputs": [
    {
     "data": {
      "text/plain": [
       "array([[  1,   2,   4,   8],\n",
       "       [ 16,  32,  64, 128]], dtype=int32)"
      ]
     },
     "execution_count": 13,
     "metadata": {},
     "output_type": "execute_result"
    }
   ],
   "source": [
    "x = np.arange(8).reshape(2, 4)\n",
    "2 ** x"
   ]
  },
  {
   "cell_type": "markdown",
   "metadata": {},
   "source": [
    "Используя правила Broadcasting, можно применять векторизованные вычисления между многомерными массивами и одномерными, между многомерными массивами и числами, и т.д.\n",
    "Например:"
   ]
  },
  {
   "cell_type": "code",
   "execution_count": 14,
   "metadata": {},
   "outputs": [
    {
     "data": {
      "text/plain": [
       "array([[0, 1, 2, 3],\n",
       "       [4, 5, 6, 7]])"
      ]
     },
     "execution_count": 14,
     "metadata": {},
     "output_type": "execute_result"
    }
   ],
   "source": [
    "x"
   ]
  },
  {
   "cell_type": "code",
   "execution_count": 15,
   "metadata": {},
   "outputs": [
    {
     "data": {
      "text/plain": [
       "array([[10, 11, 12, 13],\n",
       "       [14, 15, 16, 17]])"
      ]
     },
     "execution_count": 15,
     "metadata": {},
     "output_type": "execute_result"
    }
   ],
   "source": [
    "x + 10"
   ]
  },
  {
   "cell_type": "code",
   "execution_count": 16,
   "metadata": {},
   "outputs": [],
   "source": [
    "y = np.arange(4)"
   ]
  },
  {
   "cell_type": "code",
   "execution_count": 17,
   "metadata": {},
   "outputs": [
    {
     "data": {
      "text/plain": [
       "array([[ 0,  2,  4,  6],\n",
       "       [ 4,  6,  8, 10]])"
      ]
     },
     "execution_count": 17,
     "metadata": {},
     "output_type": "execute_result"
    }
   ],
   "source": [
    "x + y"
   ]
  },
  {
   "cell_type": "markdown",
   "metadata": {},
   "source": [
    "Вычисление функций по разным осям:"
   ]
  },
  {
   "cell_type": "code",
   "execution_count": 18,
   "metadata": {},
   "outputs": [
    {
     "name": "stdout",
     "output_type": "stream",
     "text": [
      "[[0 1 2 3]\n",
      " [4 5 6 7]]\n"
     ]
    },
    {
     "data": {
      "text/plain": [
       "array([2., 3., 4., 5.])"
      ]
     },
     "execution_count": 18,
     "metadata": {},
     "output_type": "execute_result"
    }
   ],
   "source": [
    "print(x)\n",
    "x.mean(axis=0)"
   ]
  },
  {
   "cell_type": "code",
   "execution_count": 19,
   "metadata": {},
   "outputs": [
    {
     "name": "stdout",
     "output_type": "stream",
     "text": [
      "[[0 1 2 3]\n",
      " [4 5 6 7]]\n"
     ]
    },
    {
     "data": {
      "text/plain": [
       "array([1.5, 5.5])"
      ]
     },
     "execution_count": 19,
     "metadata": {},
     "output_type": "execute_result"
    }
   ],
   "source": [
    "print(x)\n",
    "x.mean(axis=1)"
   ]
  },
  {
   "cell_type": "markdown",
   "metadata": {},
   "source": [
    "Numpy содержит большое количество функций, которые поддерживают векторизованные операции. Тригонометрические, экспонента, логарифмы и т.д."
   ]
  },
  {
   "cell_type": "code",
   "execution_count": 20,
   "metadata": {},
   "outputs": [
    {
     "name": "stdout",
     "output_type": "stream",
     "text": [
      "cos^2(x) + sin^2(x) =  [1. 1. 1. 1.]\n"
     ]
    }
   ],
   "source": [
    "x = np.arange(1, 5)\n",
    "print('cos^2(x) + sin^2(x) = ', np.cos(x) ** 2 + np.sin(x) ** 2)"
   ]
  },
  {
   "cell_type": "code",
   "execution_count": 21,
   "metadata": {},
   "outputs": [
    {
     "data": {
      "text/plain": [
       "array([0.78539816, 0.46364761, 0.24497866, 0.12435499, 0.06241881])"
      ]
     },
     "execution_count": 21,
     "metadata": {},
     "output_type": "execute_result"
    }
   ],
   "source": [
    "np.arctan(1 / 2 ** np.arange(5))"
   ]
  },
  {
   "cell_type": "code",
   "execution_count": 22,
   "metadata": {},
   "outputs": [
    {
     "name": "stdout",
     "output_type": "stream",
     "text": [
      "e^x        = [ 2.71828183  7.3890561  20.08553692 54.59815003]\n",
      "e^x - 1    = [ 1.71828183  6.3890561  19.08553692 53.59815003]\n",
      "ln(x)      = [0.         0.69314718 1.09861229 1.38629436]\n",
      "ln(1 + x)  = [0.69314718 1.09861229 1.38629436 1.60943791]\n",
      "log2(x)    = [0.        1.        1.5849625 2.       ]\n",
      "log10(x)   = [0.        1.        1.5849625 2.       ]\n"
     ]
    }
   ],
   "source": [
    "print('e^x        =', np.exp(x))\n",
    "print('e^x - 1    =', np.expm1(x))\n",
    "print('ln(x)      =', np.log(x))\n",
    "print('ln(1 + x)  =', np.log1p(x))\n",
    "print('log2(x)    =', np.log2(x))\n",
    "print('log10(x)   =', np.log2(x))"
   ]
  },
  {
   "cell_type": "markdown",
   "metadata": {},
   "source": [
    "### Агрегирующие функции\n",
    "\n",
    "Numpy поддерживает агрегирующие функции - минимум, максимум, сумма, индекс минимального или максимального элемента, набор функций статистики (мат. ожидание, девиация, среднеквадратическое отклонение и т.д.)"
   ]
  },
  {
   "cell_type": "code",
   "execution_count": 23,
   "metadata": {},
   "outputs": [],
   "source": [
    "np.random.seed(1)\n",
    "x = np.random.normal(0, 10, 100000)"
   ]
  },
  {
   "cell_type": "code",
   "execution_count": 24,
   "metadata": {},
   "outputs": [
    {
     "name": "stdout",
     "output_type": "stream",
     "text": [
      "min: -43.26887280356832\n",
      "max: 41.681176779550945\n",
      "sum: 5253.028489682669\n"
     ]
    }
   ],
   "source": [
    "print('min:', np.min(x))\n",
    "print('max:', np.max(x))\n",
    "print('sum:', np.sum(x))"
   ]
  },
  {
   "cell_type": "markdown",
   "metadata": {},
   "source": [
    "Индекс минимального и максимального значения:"
   ]
  },
  {
   "cell_type": "code",
   "execution_count": 25,
   "metadata": {},
   "outputs": [
    {
     "name": "stdout",
     "output_type": "stream",
     "text": [
      "argmin: 72386 value: -43.26887280356832\n",
      "argmax: 14926 value: 41.681176779550945\n"
     ]
    }
   ],
   "source": [
    "print('argmin:', np.argmin(x), 'value:', x[np.argmin(x)])\n",
    "print('argmax:', np.argmax(x), 'value:', x[np.argmax(x)])"
   ]
  },
  {
   "cell_type": "markdown",
   "metadata": {},
   "source": [
    "Функции мат. статистики:"
   ]
  },
  {
   "cell_type": "code",
   "execution_count": 26,
   "metadata": {},
   "outputs": [
    {
     "name": "stdout",
     "output_type": "stream",
     "text": [
      "mean  :  0.052530284896826686\n",
      "median:  0.06000389061649444\n",
      "std   :  9.983292735417361\n",
      "var   :  99.66613384103707\n"
     ]
    }
   ],
   "source": [
    "print('mean  : ', np.mean(x))\n",
    "print('median: ', np.median(x))\n",
    "print('std   : ', np.std(x))\n",
    "print('var   : ', np.var(x))"
   ]
  },
  {
   "cell_type": "markdown",
   "metadata": {},
   "source": [
    "### Агрегирование многомерных массивов\n",
    "\n",
    "Как уже было сказано выше, применяя агрегирующую функцию к многомерному массиву, можно указать ось вычисления `axis`"
   ]
  },
  {
   "cell_type": "code",
   "execution_count": 27,
   "metadata": {},
   "outputs": [
    {
     "data": {
      "text/plain": [
       "array([[5, 8, 9, 5, 0],\n",
       "       [0, 1, 7, 6, 9]])"
      ]
     },
     "execution_count": 27,
     "metadata": {},
     "output_type": "execute_result"
    }
   ],
   "source": [
    "np.random.seed(1)\n",
    "x = np.random.randint(0, 10, size=(2, 5))\n",
    "x"
   ]
  },
  {
   "cell_type": "code",
   "execution_count": 28,
   "metadata": {},
   "outputs": [
    {
     "name": "stdout",
     "output_type": "stream",
     "text": [
      "total sum  : 50\n",
      "column sum : [ 5  9 16 11  9]\n",
      "row sum    : [27 23]\n"
     ]
    }
   ],
   "source": [
    "print('total sum  :', np.sum(x))\n",
    "print('column sum :', np.sum(x, axis=0))\n",
    "print('row sum    :', np.sum(x, axis=1))"
   ]
  },
  {
   "cell_type": "code",
   "execution_count": 29,
   "metadata": {},
   "outputs": [
    {
     "name": "stdout",
     "output_type": "stream",
     "text": [
      "maximum    : 9\n",
      "column max : [5 8 9 6 9]\n",
      "row max    : [9 9]\n"
     ]
    }
   ],
   "source": [
    "print('maximum    :', np.max(x))\n",
    "print('column max :', np.max(x, axis=0))\n",
    "print('row max    :', np.max(x, axis=1))"
   ]
  },
  {
   "cell_type": "markdown",
   "metadata": {},
   "source": [
    "### Список функций\n",
    "\n",
    "|Функция            |   Без учета NaN     | Описание                      | \n",
    "|-------------------|---------------------|-------------------------------| \n",
    "| `np.min`          | `np.nanmin`         | Минимум                       | \n",
    "| `np.max`          | `np.nanmax`         | Максимум                      | \n",
    "| `np.argmin`       | `np.nanargmin`      | Индекс миниимального элемента | \n",
    "| `np.argmax`       | `np.nanargmax`      | Индекс максимального элемента | \n",
    "| `np.sum`          | `np.nansum`         | Сумма                         | \n",
    "| `np.prod`         | `np.nanprod`        | Произведение                  | \n",
    "| `np.mean`         | `np.nanmean`        | Среднее значение (смещение)   | \n",
    "| `np.median`       | `np.nanmedian`      | Медиана                       | \n",
    "| `np.std`          | `np.nanstd`         | Стандартное отклонение        | \n",
    "| `np.var`          | `np.nanvar`         | Дисперсия                     | \n",
    "| `np.percentile`   | `np.nanpercentile`  | Перцентиль                    | \n"
   ]
  },
  {
   "cell_type": "markdown",
   "metadata": {},
   "source": [
    "## Кумулятивные функции\n",
    "\n",
    "Numpy поддерживает функции, которые вычисляют накапливающее значение, например аккумулятор и кумулирующее произведение. Эти функции применяются в разных задачах, например фильтрации сигналов."
   ]
  },
  {
   "cell_type": "code",
   "execution_count": 30,
   "metadata": {},
   "outputs": [
    {
     "name": "stdout",
     "output_type": "stream",
     "text": [
      "cumsum : [ 1  3  6 10]\n",
      "cumprod: [ 1  2  6 24]\n"
     ]
    }
   ],
   "source": [
    "x = np.arange(1, 5)\n",
    "print('cumsum :', np.cumsum(x))\n",
    "print('cumprod:', np.cumprod(x))"
   ]
  },
  {
   "cell_type": "markdown",
   "metadata": {},
   "source": [
    "Вычисление экспоненты через ряд Тейлора: $\\\\sum_{k=0}^{10} \\\\frac{1}{k!}$"
   ]
  },
  {
   "cell_type": "code",
   "execution_count": 31,
   "metadata": {},
   "outputs": [
    {
     "data": {
      "text/plain": [
       "2.7182815255731922"
      ]
     },
     "execution_count": 31,
     "metadata": {},
     "output_type": "execute_result"
    }
   ],
   "source": [
    "x = np.arange(1, 10)\n",
    "1 + np.sum(1 / np.cumprod(x))"
   ]
  },
  {
   "cell_type": "markdown",
   "metadata": {},
   "source": [
    "Построение графика для аккумулятора случайных чисел:"
   ]
  },
  {
   "cell_type": "code",
   "execution_count": 32,
   "metadata": {},
   "outputs": [
    {
     "data": {
      "image/png": "[encoded data removed]",
      "text/plain": [
       "<Figure size 432x288 with 1 Axes>"
      ]
     },
     "metadata": {
      "needs_background": "light"
     },
     "output_type": "display_data"
    }
   ],
   "source": [
    "np.random.seed(5)\n",
    "x = np.random.randn(1000)\n",
    "y = np.cumsum(x)\n",
    "\n",
    "plt.plot(x)\n",
    "plt.grid()"
   ]
  },
  {
   "cell_type": "code",
   "execution_count": 33,
   "metadata": {},
   "outputs": [
    {
     "data": {
      "image/png": "[encoded data removed]",
      "text/plain": [
       "<Figure size 432x288 with 1 Axes>"
      ]
     },
     "metadata": {
      "needs_background": "light"
     },
     "output_type": "display_data"
    }
   ],
   "source": [
    "plt.plot(y)\n",
    "plt.grid()"
   ]
  }
 ],
 "metadata": {
  "kernelspec": {
   "display_name": "Python 3",
   "language": "python",
   "name": "python3"
  },
  "language_info": {
   "codemirror_mode": {
    "name": "ipython",
    "version": 3
   },
   "file_extension": ".py",
   "mimetype": "text/x-python",
   "name": "python",
   "nbconvert_exporter": "python",
   "pygments_lexer": "ipython3",
   "version": "3.7.3"
  }
 },
 "nbformat": 4,
 "nbformat_minor": 2
}
