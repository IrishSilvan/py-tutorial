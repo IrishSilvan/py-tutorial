{
 "cells": [
  {
   "cell_type": "markdown",
   "metadata": {},
   "source": [
    "## Задания для самопроверки Python"
   ]
  },
  {
   "cell_type": "markdown",
   "metadata": {},
   "source": [
    "### Задача 0: Факториал\n",
    "Написать функцию вычисления **факториала** без использования встроенных библиотек. Придумать как можно больше способов реализации. Проверить при различных n.\n",
    "\n",
    "```python\n",
    "x = fact(n)\n",
    "\n",
    "# fact(1..6) - 1, 2, 6, 24, 120, 720\n",
    "```\n",
    "\n",
    "Проверить время выполнения функции для *n* > 50. Объяснить результат."
   ]
  },
  {
   "cell_type": "code",
   "execution_count": 1,
   "metadata": {},
   "outputs": [
    {
     "name": "stdout",
     "output_type": "stream",
     "text": [
      "5.75 µs ± 72.2 ns per loop (mean ± std. dev. of 5 runs, 10000 loops each)\n"
     ]
    }
   ],
   "source": [
    "# Method 1:\n",
    "fact1 = lambda n: n * fact1(n-1) if n > 1 else 1\n",
    "\n",
    "# Check time of calculation\n",
    "n = 50\n",
    "%timeit -n 10000 -r 5 fact1(n)"
   ]
  },
  {
   "cell_type": "code",
   "execution_count": 2,
   "metadata": {},
   "outputs": [
    {
     "name": "stdout",
     "output_type": "stream",
     "text": [
      "5.48 µs ± 326 ns per loop (mean ± std. dev. of 5 runs, 10000 loops each)\n"
     ]
    }
   ],
   "source": [
    "# Method 2:\n",
    "def fact2(n):\n",
    "    return n * fact2(n-1) if n > 1 else 1\n",
    "\n",
    "%timeit -n 10000 -r 5 fact2(n)"
   ]
  },
  {
   "cell_type": "code",
   "execution_count": 3,
   "metadata": {},
   "outputs": [
    {
     "name": "stdout",
     "output_type": "stream",
     "text": [
      "5.83 µs ± 111 ns per loop (mean ± std. dev. of 5 runs, 10000 loops each)\n"
     ]
    }
   ],
   "source": [
    "# Method 3:\n",
    "def fact3(n):\n",
    "    if n > 1:\n",
    "        return n * fact3(n-1)\n",
    "    else:\n",
    "        return 1\n",
    "\n",
    "%timeit -n 10000 -r 5 fact3(n)"
   ]
  },
  {
   "cell_type": "code",
   "execution_count": 4,
   "metadata": {},
   "outputs": [
    {
     "name": "stdout",
     "output_type": "stream",
     "text": [
      "3.73 µs ± 97.9 ns per loop (mean ± std. dev. of 5 runs, 10000 loops each)\n"
     ]
    }
   ],
   "source": [
    "# Method 4:\n",
    "def fact4(n):\n",
    "    x = 1\n",
    "    while n > 1:\n",
    "        x *= n\n",
    "        n -= 1\n",
    "    return x\n",
    "\n",
    "%timeit -n 10000 -r 5 fact4(n)"
   ]
  },
  {
   "cell_type": "code",
   "execution_count": 5,
   "metadata": {},
   "outputs": [
    {
     "name": "stdout",
     "output_type": "stream",
     "text": [
      "2.5 µs ± 341 ns per loop (mean ± std. dev. of 5 runs, 10000 loops each)\n"
     ]
    }
   ],
   "source": [
    "# Method 5:\n",
    "def fact5(n):\n",
    "    x = n\n",
    "    for i in range(2, n):\n",
    "        x *= i\n",
    "    return x\n",
    "\n",
    "%timeit -n 10000 -r 5 fact5(n)"
   ]
  },
  {
   "cell_type": "code",
   "execution_count": 6,
   "metadata": {},
   "outputs": [
    {
     "name": "stdout",
     "output_type": "stream",
     "text": [
      "[1, 2, 6, 24, 120, 720, 5040]\n"
     ]
    }
   ],
   "source": [
    "print([fact1(i) for i in range(1,8)])"
   ]
  },
  {
   "cell_type": "markdown",
   "metadata": {},
   "source": [
    "### Задача 1: Числа Фибоначчи\n",
    "Написать функцию поиска числа **Фибоначчи**. Придумать как можно больше способов реализации. Проверить при различных n. Последовательность начинается с 1. \n",
    "\n",
    "```python\n",
    "x = fib(n)\n",
    "\n",
    "# fib = [1, 1, 2, 3, 5, 8, 13, 21, 34, 55, ...]\n",
    "```\n",
    "\n",
    "Проверить время выполнения функции для *n* > 50. Объяснить результат."
   ]
  },
  {
   "cell_type": "code",
   "execution_count": 7,
   "metadata": {},
   "outputs": [
    {
     "name": "stdout",
     "output_type": "stream",
     "text": [
      "[1, 1, 2, 3, 5, 8, 13, 21, 34, 55]\n"
     ]
    }
   ],
   "source": [
    "# Method 1:\n",
    "fib0 = lambda n: fib0(n-1) + fib0(n-2) if n > 1 else 1\n",
    "\n",
    "\n",
    "# Method 2:\n",
    "def fib1(n):\n",
    "    return fib1(n-1) + fib1(n-2) if n > 1 else 1\n",
    "\n",
    "\n",
    "# Method 3:\n",
    "def fib2(n):\n",
    "    if n > 1:\n",
    "        return fib2(n-1) + fib2(n-2)\n",
    "    else:\n",
    "        return 1\n",
    "\n",
    "\n",
    "# Method 4:\n",
    "def fib3(n):\n",
    "    a, b = 1, 1\n",
    "    while n > 1:\n",
    "        a, b = a+b, a\n",
    "        n -= 1\n",
    "    return a\n",
    "\n",
    "\n",
    "# Method 5:\n",
    "def fib4(n):\n",
    "    a, b = 1, 1\n",
    "    for _ in range(1,n):\n",
    "        a, b = a+b, a\n",
    "    return a\n",
    "\n",
    "\n",
    "# Calculate time:\n",
    "n = 10\n",
    "print([fib0(i) for i in range(n)])\n",
    "n = 20"
   ]
  },
  {
   "cell_type": "code",
   "execution_count": 8,
   "metadata": {},
   "outputs": [
    {
     "name": "stdout",
     "output_type": "stream",
     "text": [
      "1.64 ms ± 18.2 µs per loop (mean ± std. dev. of 3 runs, 100 loops each)\n"
     ]
    }
   ],
   "source": [
    "%timeit -n 100 -r 3 fib0(n)"
   ]
  },
  {
   "cell_type": "code",
   "execution_count": 9,
   "metadata": {},
   "outputs": [
    {
     "name": "stdout",
     "output_type": "stream",
     "text": [
      "1.82 ms ± 7.76 µs per loop (mean ± std. dev. of 3 runs, 100 loops each)\n"
     ]
    }
   ],
   "source": [
    "%timeit -n 100 -r 3 fib1(n)"
   ]
  },
  {
   "cell_type": "code",
   "execution_count": 10,
   "metadata": {},
   "outputs": [
    {
     "name": "stdout",
     "output_type": "stream",
     "text": [
      "1.8 ms ± 45.9 µs per loop (mean ± std. dev. of 3 runs, 100 loops each)\n"
     ]
    }
   ],
   "source": [
    "%timeit -n 100 -r 3 fib2(n)"
   ]
  },
  {
   "cell_type": "code",
   "execution_count": 11,
   "metadata": {},
   "outputs": [
    {
     "name": "stdout",
     "output_type": "stream",
     "text": [
      "1.25 µs ± 8.32 ns per loop (mean ± std. dev. of 3 runs, 100 loops each)\n"
     ]
    }
   ],
   "source": [
    "%timeit -n 100 -r 3 fib3(n)"
   ]
  },
  {
   "cell_type": "code",
   "execution_count": 12,
   "metadata": {},
   "outputs": [
    {
     "name": "stdout",
     "output_type": "stream",
     "text": [
      "955 ns ± 7.71 ns per loop (mean ± std. dev. of 3 runs, 100 loops each)\n"
     ]
    }
   ],
   "source": [
    "%timeit -n 100 -r 3 fib4(n)"
   ]
  },
  {
   "cell_type": "markdown",
   "metadata": {},
   "source": [
    "### Задача 2: Сумма положительных чисел\n",
    "\n",
    "Дан список положительных и отрицательных чисел. Вывести сумму только положительных (отрицательных) чисел. Если числа в массиве не найдены - вывести 0."
   ]
  },
  {
   "cell_type": "code",
   "execution_count": 13,
   "metadata": {},
   "outputs": [],
   "source": [
    "def sum_of_list(a=None):\n",
    "    return sum([i for i in a if i > 0])"
   ]
  },
  {
   "cell_type": "code",
   "execution_count": 14,
   "metadata": {},
   "outputs": [
    {
     "data": {
      "text/plain": [
       "20"
      ]
     },
     "execution_count": 14,
     "metadata": {},
     "output_type": "execute_result"
    }
   ],
   "source": [
    "ex_list = [0, 1, 2, -4, 2, 5, 0, -10, 10]\n",
    "\n",
    "sum_of_list(ex_list)"
   ]
  },
  {
   "cell_type": "markdown",
   "metadata": {},
   "source": [
    "### Задача 3: Длина наименьшего слова предложения\n",
    "\n",
    "Дана строка из набора слов разной длины. Вывести в консоль длину самого короткого (самого длинного) слова."
   ]
  },
  {
   "cell_type": "code",
   "execution_count": 15,
   "metadata": {},
   "outputs": [],
   "source": [
    "ex_strs = 'Hello this is a string and this is a longest word Abrakadabra'"
   ]
  },
  {
   "cell_type": "code",
   "execution_count": 16,
   "metadata": {},
   "outputs": [],
   "source": [
    "def get_min_str(a=None):\n",
    "    return min(len(i) for i in a.split(' '))\n",
    "\n",
    "def get_max_str(a=None):\n",
    "    return max(len(i) for i in a.split(' '))"
   ]
  },
  {
   "cell_type": "code",
   "execution_count": 17,
   "metadata": {},
   "outputs": [
    {
     "data": {
      "text/plain": [
       "1"
      ]
     },
     "execution_count": 17,
     "metadata": {},
     "output_type": "execute_result"
    }
   ],
   "source": [
    "get_min_str(ex_strs)"
   ]
  },
  {
   "cell_type": "code",
   "execution_count": 18,
   "metadata": {},
   "outputs": [
    {
     "data": {
      "text/plain": [
       "11"
      ]
     },
     "execution_count": 18,
     "metadata": {},
     "output_type": "execute_result"
    }
   ],
   "source": [
    "get_max_str(ex_strs)"
   ]
  },
  {
   "cell_type": "markdown",
   "metadata": {},
   "source": [
    "### Задача 4: FizzBuzz\n",
    "\n",
    "Дан массив чисел от 1 до N. Если число делится на 3 - вывести Fizz, если на 5 - Buzz, если на 3 и 5 (то есть на 15) - вывести FizzBuzz."
   ]
  },
  {
   "cell_type": "code",
   "execution_count": 19,
   "metadata": {},
   "outputs": [],
   "source": [
    "def fizzbuzz(x):\n",
    "    if x % 3 == 0 and x % 5 == 0:\n",
    "        return f'FizzBuzz'\n",
    "    elif x % 3 == 0:\n",
    "        return f'Fizz'\n",
    "    elif x % 5 == 0:\n",
    "        return f'Buzz'\n",
    "    return x"
   ]
  },
  {
   "cell_type": "code",
   "execution_count": 20,
   "metadata": {},
   "outputs": [
    {
     "name": "stdout",
     "output_type": "stream",
     "text": [
      "Fizz\n",
      "4\n",
      "Buzz\n",
      "Fizz\n",
      "7\n",
      "8\n",
      "Fizz\n",
      "Buzz\n",
      "11\n",
      "Fizz\n",
      "13\n",
      "14\n",
      "FizzBuzz\n"
     ]
    }
   ],
   "source": [
    "for i in range(3, 16):\n",
    "    print(fizzbuzz(i))"
   ]
  },
  {
   "cell_type": "markdown",
   "metadata": {},
   "source": [
    "### Задача 5: Сумма FizzBuzz\n",
    "\n",
    "Вывести сумму всех чисел от 0 до n-1, которые делятся только на 3 и только на 5. Если число делится на 3 и на 5, то при подсчете суммы учесть это число один раз.\n",
    "\n",
    "Ниже представлены 4 решения:\n",
    "\n",
    "1. Простое интуитивное решение через цикл.\n",
    "2. Улучшенное решение через генератор списков (python-style)\n",
    "3. Решение через сумму списков. Множество `set` устраняет дублирующие варианты.\n",
    "4. Математическое решение через арифметические последовательности."
   ]
  },
  {
   "cell_type": "code",
   "execution_count": 21,
   "metadata": {},
   "outputs": [],
   "source": [
    "# Solution 1:\n",
    "def multiply_3_5(n):\n",
    "    sum = 0\n",
    "    for i in range(n):\n",
    "        if (i % 3) == 0 or (i % 5) == 0:\n",
    "            sum += i\n",
    "    return sum\n",
    "\n",
    "\n",
    "# Solution 2:\n",
    "def multiply_3_5(n):\n",
    "    return sum(i for i in range(n) if i % 3 == 0 or i % 5 == 0)\n",
    "\n",
    "\n",
    "# Solution 3:\n",
    "def multiply_3_5(n):\n",
    "    n3 = range(3, n, 3)\n",
    "    n5 = range(5, n, 5)\n",
    "    return sum(list(set(n3 + n5)))\n",
    "\n",
    "\n",
    "# Solution 4:\n",
    "def multiply_3_5(n):\n",
    "    n3 = (n-1) // 3\n",
    "    n5 = (n-1) // 5\n",
    "    n15 = (n-1) // 15\n",
    "    return 3 * (n3*(n3+1)/2) + 5 * (n5*(n5+1)/2) - 15 * (n15*(n15+1)/2)"
   ]
  },
  {
   "cell_type": "code",
   "execution_count": 22,
   "metadata": {},
   "outputs": [
    {
     "data": {
      "text/plain": [
       "23.0"
      ]
     },
     "execution_count": 22,
     "metadata": {},
     "output_type": "execute_result"
    }
   ],
   "source": [
    "multiply_3_5(10)"
   ]
  },
  {
   "cell_type": "markdown",
   "metadata": {},
   "source": [
    "### Задача 5: Аккумулятор символов\n",
    "\n",
    "Дана произвольная строка `s`. Написать функцию `str_accum(s)`, которая аккумулирует каждый символ строки в зависимости от его порядкового номера и выводит новую строку, как показано на примере ниже:\n",
    "\n",
    "```python\n",
    "s = \"abcd\"\n",
    "str_accum(s) = \"a-bb-ccc-dddd\"\n",
    "\n",
    "```\n",
    "Пример: \n",
    "\n",
    "`str_accum(\"RqaEzty\") -> \"R-Qq-Aaa-Eeee-Zzzzz-Tttttt-Yyyyyyy\"`"
   ]
  },
  {
   "cell_type": "code",
   "execution_count": 23,
   "metadata": {},
   "outputs": [],
   "source": [
    "def str_accum(s):\n",
    "    a = list(s)\n",
    "    res = \"\"\n",
    "    for i, c in enumerate(a):\n",
    "        res += c * (i + 1) + \"-\"\n",
    "    return res.strip(\"-\").title()\n",
    "\n",
    "\n",
    "def str_accum(s):\n",
    "    return '-'.join([j*(i+1) for i, j in enumerate(s)])"
   ]
  },
  {
   "cell_type": "code",
   "execution_count": 24,
   "metadata": {},
   "outputs": [
    {
     "data": {
      "text/plain": [
       "'A-bb-ccc-dddd-EEEEE-ffffff'"
      ]
     },
     "execution_count": 24,
     "metadata": {},
     "output_type": "execute_result"
    }
   ],
   "source": [
    "str_accum('AbcdEf')"
   ]
  },
  {
   "cell_type": "markdown",
   "metadata": {},
   "source": [
    "### Задача 6: степень двойки\n",
    "\n",
    "Определить, является ли число производной от степени двойки. Например, число 33 - не является, а число 16 или 1024 - является. Входное число - неотрицательное и целочисленное.\n",
    "\n",
    "Замечание: проверка числа `0` выведет `False`.\n",
    "\n",
    "Примеры:\n",
    "```python\n",
    "power_of_two(16) ==> True\n",
    "power_of_two(128) ==> True\n",
    "power_of_two(333)  ==> False\n",
    "```"
   ]
  },
  {
   "cell_type": "code",
   "execution_count": 25,
   "metadata": {},
   "outputs": [],
   "source": [
    "def power_of_two(x):\n",
    "    return bin(x).count('1') == 1\n",
    "\n",
    "\n",
    "def power_of_two(x):\n",
    "    print(x != 0 and (x & (x-1)) == 0)"
   ]
  },
  {
   "cell_type": "code",
   "execution_count": 26,
   "metadata": {},
   "outputs": [
    {
     "name": "stdout",
     "output_type": "stream",
     "text": [
      "0 - False\n",
      "1 - True\n",
      "2 - True\n",
      "3 - False\n",
      "4 - True\n",
      "5 - False\n",
      "6 - False\n",
      "7 - False\n",
      "8 - True\n",
      "9 - False\n"
     ]
    }
   ],
   "source": [
    "for i in range(10):\n",
    "    print(f'{i} - ', end='')\n",
    "    power_of_two(i)"
   ]
  },
  {
   "cell_type": "markdown",
   "metadata": {},
   "source": [
    "### Задача 7: Числа Трибоначчи\n",
    "\n",
    "Дана начальная последовательность из трех чисел Трибоначчи - `[0, 1, 1]`, `[1, 1, 1]`. Требуется найти числа \"Трибоначчи\", по аналогичному алгоритму поиска чисел Фибоначчи, с одним отличием: количество чисел, участвующих в формировании следующего числа последовательности равно трём.\n",
    "\n",
    "Примеры:\n",
    "```\n",
    "[1, 1 ,1, 3, 5, 9, 17, 31, ...]\n",
    "\n",
    "[0, 0, 1, 1, 2, 4, 7, 13, 24, ...]\n",
    "```"
   ]
  },
  {
   "cell_type": "code",
   "execution_count": 27,
   "metadata": {},
   "outputs": [],
   "source": [
    "def tribonacci(st, n):\n",
    "    x = []\n",
    "    for i in range(n):\n",
    "        y = st[-1] + st[-2] + st[-3]\n",
    "        st.append(y)\n",
    "        z = st.pop(0)\n",
    "        x.append(z)\n",
    "    return x\n",
    "\n",
    "\n",
    "def tribonacci(st, n):\n",
    "    res = st[:n]\n",
    "    for i in range(n - 3): \n",
    "        res.append(sum(res[-3:]))\n",
    "    return res\n",
    "\n",
    "\n",
    "def tribonacci(st, n):\n",
    "    for i in range(3, n): st.append(st[i-1] + st[i-2] + st[i-3])\n",
    "    return st[:n]"
   ]
  },
  {
   "cell_type": "code",
   "execution_count": 28,
   "metadata": {},
   "outputs": [
    {
     "data": {
      "text/plain": [
       "[1, 1, 1, 3, 5, 9, 17]"
      ]
     },
     "execution_count": 28,
     "metadata": {},
     "output_type": "execute_result"
    }
   ],
   "source": [
    "tribonacci([1, 1, 1], 7)"
   ]
  },
  {
   "cell_type": "code",
   "execution_count": 29,
   "metadata": {},
   "outputs": [
    {
     "data": {
      "text/plain": [
       "[0, 1, 1, 2, 4, 7, 13]"
      ]
     },
     "execution_count": 29,
     "metadata": {},
     "output_type": "execute_result"
    }
   ],
   "source": [
    "tribonacci([0, 1, 1], 7)"
   ]
  },
  {
   "cell_type": "code",
   "execution_count": 30,
   "metadata": {},
   "outputs": [
    {
     "data": {
      "text/plain": [
       "[0, 0, 1, 1, 2, 4, 7]"
      ]
     },
     "execution_count": 30,
     "metadata": {},
     "output_type": "execute_result"
    }
   ],
   "source": [
    "tribonacci([0, 0, 1], 7)"
   ]
  },
  {
   "cell_type": "markdown",
   "metadata": {},
   "source": [
    "### Задача 8: Счетчик бит\n",
    "\n",
    "Дано целое положительное число. Посчитать количество единичных бит в этом числе, представленном в двоичном коде.\n",
    "\n",
    "Например: `1234` представляется как `10011010010`, \n",
    "\n",
    "`bit_count(1234) = 5`"
   ]
  },
  {
   "cell_type": "code",
   "execution_count": 31,
   "metadata": {},
   "outputs": [],
   "source": [
    "def bit_count(n):\n",
    "    ret = 0\n",
    "    while n:\n",
    "        # chose your method:\n",
    "        ret += n % 2    # modulo by 2\n",
    "        # ret += n & 1    # bit-mask with 0x0001\n",
    "        n >>= 1\n",
    "    return ret\n",
    "\n",
    "\n",
    "def bit_count(n):\n",
    "    return bin(n).count('1')\n",
    "\n",
    "\n",
    "def bit_count(n):\n",
    "    return (n & 1) + bit_count(n >> 1) if n else 0"
   ]
  },
  {
   "cell_type": "code",
   "execution_count": 32,
   "metadata": {},
   "outputs": [
    {
     "data": {
      "text/plain": [
       "5"
      ]
     },
     "execution_count": 32,
     "metadata": {},
     "output_type": "execute_result"
    }
   ],
   "source": [
    "bit_count(1234)"
   ]
  },
  {
   "cell_type": "markdown",
   "metadata": {},
   "source": [
    "### Задача 9: Декодер римских чисел\n",
    "\n",
    "Написать функцию, декодирующую число в римской системе счисления в десятичную.\n",
    "Например, `1990` в десятичной представляется как `\"MCMXC\"` (1000 = M, 900 = CM, 90 = XC), а `2008` как `\"MMVIII\"` (2000 = MM, 8 = VIII). Входной аргумент - строка. Выходной аргумент - число.\n",
    "\n",
    "Подсказка:\n",
    "```python\n",
    "# Symbol    Value\n",
    "# I          1\n",
    "# V          5\n",
    "# X          10\n",
    "# L          50\n",
    "# C          100\n",
    "# D          500\n",
    "# M          1,000\n",
    "```\n",
    "\n",
    "Решение:\n",
    "1. Создать словарь - соответствие римских цифр и десятичных чисел.\n",
    "2. Преобразовать входную строку в список, который затем преобразуется в массив десятичных цифр.\n",
    "3. Проход по списку и сравнение двух соседних элементов: если следующий элемент больше текущего, то вычитаем, иначе - прибавляем к результату число из списка."
   ]
  },
  {
   "cell_type": "code",
   "execution_count": 33,
   "metadata": {},
   "outputs": [],
   "source": [
    "def roman_decoder(roman):\n",
    "    d = {'I' : 1, 'V' : 5, 'X' : 10, 'L' : 50, 'C' : 100, 'D' : 500, 'M' : 1000}\n",
    "    \n",
    "    arr = [d[i] for i in list(roman)]\n",
    "    s = 0\n",
    "    for i in range(len(arr)):\n",
    "        if i+1 < len(arr) and arr[i+1] > arr[i]:\n",
    "            s -= arr[i]\n",
    "        else: \n",
    "            s += arr[i]\n",
    "    return s\n",
    "\n",
    "\n",
    "\n",
    "values = [('M', 1000), ('CM', -200), ('D', 500), ('CD', -200),\n",
    "          ('C', 100), ('XC', -20), ('L', 50), ('XL', -20),\n",
    "          ('X', 10), ('IX', -2), ('V', 5), ('IV', -2),\n",
    "          ('I', 1)]\n",
    "\n",
    "def roman_decoder(roman):\n",
    "    return sum(roman.count(s)*v for s,v in values)"
   ]
  },
  {
   "cell_type": "code",
   "execution_count": 34,
   "metadata": {},
   "outputs": [
    {
     "data": {
      "text/plain": [
       "2124"
      ]
     },
     "execution_count": 34,
     "metadata": {},
     "output_type": "execute_result"
    }
   ],
   "source": [
    "roman_decoder('MMCXXIV')"
   ]
  },
  {
   "cell_type": "code",
   "execution_count": 35,
   "metadata": {},
   "outputs": [
    {
     "data": {
      "text/plain": [
       "2019"
      ]
     },
     "execution_count": 35,
     "metadata": {},
     "output_type": "execute_result"
    }
   ],
   "source": [
    "roman_decoder('MMXIX')"
   ]
  },
  {
   "cell_type": "markdown",
   "metadata": {},
   "source": [
    "### Задача 10: Десятичные числа в римские\n",
    "\n",
    "Написать функцию, преобразующую десятичное число в число, представленное в римской системе счисления. Входной аргумент - целое положительное число от 1 до 3999, выходной аргумент - строка.\n",
    "\n",
    "Подсказка: три и более одинаковых символов подряд - запрещенная комбинация.\n",
    "\n",
    "Решение:\n",
    "1. Создать два расширенных списка - список десятичных чисел и римских цифр (см. решение)\n",
    "2. Произвести проход по комбинации из двух списков. Если входное значение больше или равно значению из списка десятичных чисел, то вернуть сумму: значение из списка римских чисел и результат этой же функции при условии, что входной аргумент уменьшился на значение из списка десятичных чисел.\n"
   ]
  },
  {
   "cell_type": "code",
   "execution_count": 36,
   "metadata": {},
   "outputs": [],
   "source": [
    "def roman_encoder(n):\n",
    "    if 3999 < n < 0:\n",
    "        return 'Error'\n",
    "    \n",
    "    arab = [1000, 900, 500, 400, 100, 90, 50, 40, 10, 9, 5, 4, 1]\n",
    "    roma = ['M', 'CM', 'D', 'CD', 'C', 'XC', 'L', 'XL', 'X', 'IX', 'V', 'IV', 'I']\n",
    "    for a, r in zip(arab, roma):\n",
    "        if n >= a:\n",
    "            return r + roman_encoder(n-a)\n",
    "    return ''\n",
    "\n",
    "\n",
    "def solution(n):\n",
    "    roman_numerals = {\n",
    "        1000:'M',\n",
    "        900: 'CM',\n",
    "        500: 'D',\n",
    "        400: 'CD',\n",
    "        100: 'C',\n",
    "        90: 'XC',\n",
    "        50: 'L',\n",
    "        40: 'XL',\n",
    "        10: 'X',\n",
    "        9: 'IX',\n",
    "        5: 'V',\n",
    "        4: 'IV',\n",
    "        1: 'I'\n",
    "    }\n",
    "    res = ''\n",
    "    for key in sorted(roma.keys(), reverse=True):\n",
    "        while n >= key:\n",
    "            res += roma[key]\n",
    "            n -= key\n",
    "    return res"
   ]
  },
  {
   "cell_type": "code",
   "execution_count": 37,
   "metadata": {},
   "outputs": [
    {
     "data": {
      "text/plain": [
       "'MMMCXXIX'"
      ]
     },
     "execution_count": 37,
     "metadata": {},
     "output_type": "execute_result"
    }
   ],
   "source": [
    "roman_encoder(3129)"
   ]
  },
  {
   "cell_type": "code",
   "execution_count": 38,
   "metadata": {},
   "outputs": [
    {
     "data": {
      "text/plain": [
       "'MMXIX'"
      ]
     },
     "execution_count": 38,
     "metadata": {},
     "output_type": "execute_result"
    }
   ],
   "source": [
    "roman_encoder(roman_decoder('MMXIX'))"
   ]
  },
  {
   "cell_type": "markdown",
   "metadata": {},
   "source": [
    "### Задача 11: Инверсия слов в строке\n",
    "\n",
    "Написать функцию, которая принимает строку и инвертирует в ней слова. Входной аргумент - непустая строка из 1 или нескольких слов. Выходное значение - строка с инвертированными словами.\n",
    "\n",
    "Дополнительное условие: применить инверсию к словам, длина которых более `n`, где n - входной аргумент функции и n > 0."
   ]
  },
  {
   "cell_type": "code",
   "execution_count": 39,
   "metadata": {},
   "outputs": [],
   "source": [
    "def word_reverse(s, n):\n",
    "    s = s.split()\n",
    "    for i, j in enumerate(s):\n",
    "        s[i] = j[::-1] if len(j) > n else j\n",
    "    return ' '.join(s)\n",
    "\n",
    "\n",
    "def word_reverse(s, n):\n",
    "    return ' '.join([i[::-1] if len(i) > n else i for i in s.split(' ')])\n",
    "\n",
    "\n",
    "def word_reverse(s, n):\n",
    "    s = s.split()\n",
    "    for i, j in enumerate(s):\n",
    "        s[i] = j[::-1] if len(j) > n else j\n",
    "    return ' '.join(s)"
   ]
  },
  {
   "cell_type": "code",
   "execution_count": 40,
   "metadata": {},
   "outputs": [
    {
     "data": {
      "text/plain": [
       "'Hello this is a lamron gnirts'"
      ]
     },
     "execution_count": 40,
     "metadata": {},
     "output_type": "execute_result"
    }
   ],
   "source": [
    "a = 'Hello this is a normal string'\n",
    "\n",
    "word_reverse(a, 5)"
   ]
  },
  {
   "cell_type": "markdown",
   "metadata": {},
   "source": [
    "### Задача 12: Инверсия целого числа\n",
    "\n",
    "Написать функцию, производящую инверсию цифр целого положительного числа. Например: 12345 станет 54321. \n",
    "\n",
    "Дополненительное условие: расширить задачу на отрицательные числа."
   ]
  },
  {
   "cell_type": "code",
   "execution_count": 41,
   "metadata": {},
   "outputs": [
    {
     "data": {
      "text/plain": [
       "54321"
      ]
     },
     "execution_count": 41,
     "metadata": {},
     "output_type": "execute_result"
    }
   ],
   "source": [
    "def pos_reverse(x):\n",
    "    return int(str(x)[::-1])\n",
    "\n",
    "pos_reverse(12345)"
   ]
  },
  {
   "cell_type": "code",
   "execution_count": 42,
   "metadata": {},
   "outputs": [
    {
     "data": {
      "text/plain": [
       "-54321"
      ]
     },
     "execution_count": 42,
     "metadata": {},
     "output_type": "execute_result"
    }
   ],
   "source": [
    "def int_reverse(x):\n",
    "    if x >= 0:\n",
    "        return int(str(x)[::-1])\n",
    "    else:\n",
    "        return -int(str(x)[:0:-1])\n",
    "\n",
    "\n",
    "def int_reverse(x):\n",
    "    y = int(str(abs(x))[::-1])\n",
    "    return -y if x < 0 else y\n",
    "\n",
    "\n",
    "def int_reverse(x):\n",
    "    if x < 0: return -int_reverse(-x)\n",
    "    return int(str(x)[::-1])\n",
    "\n",
    "\n",
    "int_reverse = lambda x: int(str(x)[::-1]) if x >= 0 else -int_reverse(-x)\n",
    "\n",
    "\n",
    "int_reverse(-12345)"
   ]
  },
  {
   "cell_type": "markdown",
   "metadata": {},
   "source": [
    "### Задача 13: Сортировка числа в порядке убывания\n",
    "\n",
    "На вход функции поступает положительное целое число. Переставить цифры числа так, чтобы они стояли в порядке убывания (возрастания).\n",
    "\n",
    "Пример:\n",
    "\n",
    "```\n",
    "Input: 21445 Output: 54421\n",
    "\n",
    "Input: 145263 Output: 654321\n",
    "\n",
    "Input: 1254859723 Output: 9875543221\n",
    "```"
   ]
  },
  {
   "cell_type": "code",
   "execution_count": 43,
   "metadata": {},
   "outputs": [],
   "source": [
    "def descending_order(x):\n",
    "    s = str(x)       # Create string\n",
    "    s = sorted(s)      # Create sorted list\n",
    "    s = reversed(s)    # Reverse list elements\n",
    "    s = ''.join(s)     # Join list to string\n",
    "    return int(s)      # Return integer\n",
    "\n",
    "\n",
    "def descending_order(x):\n",
    "    return int(''.join(sorted(str(x), reverse=True)))\n",
    "\n",
    "\n",
    "def descending_order(x):\n",
    "    return int(''.join(sorted(str(x))[::-1]))"
   ]
  },
  {
   "cell_type": "code",
   "execution_count": 44,
   "metadata": {},
   "outputs": [
    {
     "data": {
      "text/plain": [
       "98765543210"
      ]
     },
     "execution_count": 44,
     "metadata": {},
     "output_type": "execute_result"
    }
   ],
   "source": [
    "descending_order(50987654123)"
   ]
  },
  {
   "cell_type": "markdown",
   "metadata": {},
   "source": [
    "### Задача 14: Двумерный массив\n",
    "\n",
    "Не используя numpy, создать двумерный массив NxN, где N - входной аргумент. Элементы массива вычисляются по формуле `el = i+j`.\n",
    "\n",
    "Пример `N = 6:\n",
    "\n",
    "```python\n",
    "[[0, 1, 2, 3, 4, 5],\n",
    " [1, 2, 3, 4, 5, 6],\n",
    " [2, 3, 4, 5, 6, 7],\n",
    " [3, 4, 5, 6, 7, 8],\n",
    " [4, 5, 6, 7, 8, 9],\n",
    " [5, 6, 7, 8, 9, 10]]\n",
    "```"
   ]
  },
  {
   "cell_type": "code",
   "execution_count": 45,
   "metadata": {},
   "outputs": [],
   "source": [
    "def array_2d(n):\n",
    "    a = []\n",
    "    for i in range(n):\n",
    "        a.append([])\n",
    "        for j in range(n):\n",
    "            a[i].append(i+j)\n",
    "    return a\n",
    "\n",
    "\n",
    "def array_2d(n):\n",
    "    return [[i+j for i in range(n)] for j in range(n)]"
   ]
  },
  {
   "cell_type": "code",
   "execution_count": 46,
   "metadata": {},
   "outputs": [
    {
     "data": {
      "text/plain": [
       "[[0, 1, 2, 3, 4, 5],\n",
       " [1, 2, 3, 4, 5, 6],\n",
       " [2, 3, 4, 5, 6, 7],\n",
       " [3, 4, 5, 6, 7, 8],\n",
       " [4, 5, 6, 7, 8, 9],\n",
       " [5, 6, 7, 8, 9, 10]]"
      ]
     },
     "execution_count": 46,
     "metadata": {},
     "output_type": "execute_result"
    }
   ],
   "source": [
    "array_2d(6)"
   ]
  },
  {
   "cell_type": "markdown",
   "metadata": {},
   "source": [
    "### Задача 15: Время\n",
    "\n",
    "Написать функцию, которая принимает неотрицательное целое число от 0 до 359999, выраженное в секундах. Преобразовать число к формату: `HH:MM:SS`.\n",
    "```\n",
    "HH = hours,\n",
    "MM = minutes, \n",
    "SS = seconds, \n",
    "```\n",
    "Часы - от 0 до 99, минуты - от 0 до 59, секунды - от 0 до 59."
   ]
  },
  {
   "cell_type": "code",
   "execution_count": 47,
   "metadata": {},
   "outputs": [],
   "source": [
    "def make_readable(sec):\n",
    "    s = str(sec % 60).zfill(2)\n",
    "    m = str((sec // 60) % 60).zfill(2)\n",
    "    h = str(sec // 3600).zfill(2)\n",
    "    return f\"{h}:{m}:{s}\"\n",
    "\n",
    "        \n",
    "def make_readable(s):\n",
    "    return '{:02}:{:02}:{:02}'.format(s // 3600, s // 60 % 60, s % 60)"
   ]
  },
  {
   "cell_type": "code",
   "execution_count": 48,
   "metadata": {},
   "outputs": [
    {
     "data": {
      "text/plain": [
       "'09:43:20'"
      ]
     },
     "execution_count": 48,
     "metadata": {},
     "output_type": "execute_result"
    }
   ],
   "source": [
    "make_readable(35000)"
   ]
  },
  {
   "cell_type": "markdown",
   "metadata": {},
   "source": [
    "### Задача 16: Вычитание массивов\n",
    "\n",
    "Написать функцию `array_diff(a, b)`, которая принимает два списка и вычитает второй из первого. Под \"вычитанием\" понимается удаление элементов второго списка из первого.\n",
    "\n",
    "Пример:  \n",
    "\n",
    "`array_diff([1,2,2,2,3],[2]) == [1,3]`"
   ]
  },
  {
   "cell_type": "code",
   "execution_count": 49,
   "metadata": {},
   "outputs": [],
   "source": [
    "def array_diff(a, b):\n",
    "    for i in b:\n",
    "        while i in a:\n",
    "            a.remove(i)\n",
    "    return a\n",
    "\n",
    "\n",
    "def array_diff(a, b):\n",
    "    return [x for x in a if x not in b]"
   ]
  },
  {
   "cell_type": "code",
   "execution_count": 50,
   "metadata": {},
   "outputs": [
    {
     "data": {
      "text/plain": [
       "[1, 3, 4, 5]"
      ]
     },
     "execution_count": 50,
     "metadata": {},
     "output_type": "execute_result"
    }
   ],
   "source": [
    "array_diff([1, 2, 2, 2, 3, 4, 5], [2])"
   ]
  },
  {
   "cell_type": "code",
   "execution_count": 51,
   "metadata": {},
   "outputs": [
    {
     "data": {
      "text/plain": [
       "[3, 6, 1, 8]"
      ]
     },
     "execution_count": 51,
     "metadata": {},
     "output_type": "execute_result"
    }
   ],
   "source": [
    "array_diff([0, 2, 2, 2, 3, 4, 5, 6, 1, 2, 4, 5, 8, 2, 4, 0, 0], [0, 4, 2, 5])"
   ]
  },
  {
   "cell_type": "code",
   "execution_count": null,
   "metadata": {},
   "outputs": [],
   "source": []
  }
 ],
 "metadata": {
  "kernelspec": {
   "display_name": "Python 3",
   "language": "python",
   "name": "python3"
  },
  "language_info": {
   "codemirror_mode": {
    "name": "ipython",
    "version": 3
   },
   "file_extension": ".py",
   "mimetype": "text/x-python",
   "name": "python",
   "nbconvert_exporter": "python",
   "pygments_lexer": "ipython3",
   "version": "3.6.7"
  }
 },
 "nbformat": 4,
 "nbformat_minor": 2
}
