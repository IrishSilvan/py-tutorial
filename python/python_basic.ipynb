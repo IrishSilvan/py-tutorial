{
 "cells": [
  {
   "cell_type": "markdown",
   "metadata": {},
   "source": [
    "### Задания для самопроверки Python"
   ]
  },
  {
   "cell_type": "markdown",
   "metadata": {},
   "source": [
    "**Q.0:** Написать функцию вычисления факториала без использования встроенных библиотек. Придумать как можно больше способов реализации. Проверить при различных n.\n",
    "\n",
    "```python\n",
    "x = fact(n)\n",
    "```\n",
    "\n",
    "Проверить время выполнения функции для *n* > 50. Объяснить результат."
   ]
  },
  {
   "cell_type": "code",
   "execution_count": 1,
   "metadata": {},
   "outputs": [
    {
     "name": "stdout",
     "output_type": "stream",
     "text": [
      "[1, 2, 6, 24, 120, 720, 5040]\n",
      "5.61 µs ± 145 ns per loop (mean ± std. dev. of 5 runs, 10000 loops each)\n"
     ]
    }
   ],
   "source": [
    "# Method 1:\n",
    "fact1 = lambda n: n*fact1(n-1) if n > 1 else 1\n",
    "\n",
    "print([fact1(i) for i in range(1,8)])\n",
    "\n",
    "# Check time of calculation\n",
    "n = 50\n",
    "%timeit -n 10000 -r 5 fact1(n)"
   ]
  },
  {
   "cell_type": "code",
   "execution_count": 2,
   "metadata": {},
   "outputs": [
    {
     "name": "stdout",
     "output_type": "stream",
     "text": [
      "5.5 µs ± 278 ns per loop (mean ± std. dev. of 5 runs, 10000 loops each)\n"
     ]
    }
   ],
   "source": [
    "# Method 2:\n",
    "def fact2(n):\n",
    "    return n * fact2(n-1) if n > 1 else 1\n",
    "\n",
    "\n",
    "%timeit -n 10000 -r 5 fact2(n)"
   ]
  },
  {
   "cell_type": "code",
   "execution_count": 3,
   "metadata": {},
   "outputs": [
    {
     "name": "stdout",
     "output_type": "stream",
     "text": [
      "5.33 µs ± 279 ns per loop (mean ± std. dev. of 5 runs, 10000 loops each)\n"
     ]
    }
   ],
   "source": [
    "# Method 3:\n",
    "def fact3(n):\n",
    "    if n > 1:\n",
    "        return n*fact3(n-1)\n",
    "    else:\n",
    "        return 1\n",
    "\n",
    "\n",
    "%timeit -n 10000 -r 5 fact3(n)"
   ]
  },
  {
   "cell_type": "code",
   "execution_count": 4,
   "metadata": {},
   "outputs": [
    {
     "name": "stdout",
     "output_type": "stream",
     "text": [
      "3.61 µs ± 232 ns per loop (mean ± std. dev. of 5 runs, 10000 loops each)\n"
     ]
    }
   ],
   "source": [
    "# Method 4:\n",
    "def fact4(n):\n",
    "    x = 1\n",
    "    while n > 1:\n",
    "        x *= n\n",
    "        n -= 1\n",
    "    return x\n",
    "\n",
    "\n",
    "%timeit -n 10000 -r 5 fact4(n)"
   ]
  },
  {
   "cell_type": "code",
   "execution_count": 5,
   "metadata": {},
   "outputs": [
    {
     "name": "stdout",
     "output_type": "stream",
     "text": [
      "2.44 µs ± 149 ns per loop (mean ± std. dev. of 5 runs, 10000 loops each)\n"
     ]
    }
   ],
   "source": [
    "# Method 5:\n",
    "def fact5(n):\n",
    "    x = n\n",
    "    for i in range(1,n):\n",
    "        x *= i\n",
    "    return x\n",
    "\n",
    "\n",
    "%timeit -n 10000 -r 5 fact5(n)"
   ]
  },
  {
   "cell_type": "markdown",
   "metadata": {},
   "source": [
    "##### **Q.1:** Написать функцию поиска числа Фибоначчи. Придумать как можно больше способов реализации. Проверить при различных n. Последовательность начинается с 1. \n",
    "\n",
    "```python\n",
    "x = fib(n)\n",
    "f = [1, 1, 2, 3, 5, 8, 13, 21, 34, 55] # ...\n",
    "```\n",
    "\n",
    "Проверить время выполнения функции для *n* > 50. Объяснить результат."
   ]
  },
  {
   "cell_type": "code",
   "execution_count": 6,
   "metadata": {},
   "outputs": [
    {
     "name": "stdout",
     "output_type": "stream",
     "text": [
      "[1, 1, 2, 3, 5, 8, 13, 21, 34, 55]\n"
     ]
    }
   ],
   "source": [
    "# Method 1:\n",
    "fib0 = lambda n: fib0(n-1) + fib0(n-2) if n > 1 else 1\n",
    "\n",
    "\n",
    "# Method 2:\n",
    "def fib1(n):\n",
    "    return fib1(n-1) + fib1(n-2) if n > 1 else 1\n",
    "\n",
    "\n",
    "# Method 3:\n",
    "def fib2(n):\n",
    "    if n > 1:\n",
    "        return fib2(n-1) + fib2(n-2)\n",
    "    else:\n",
    "        return 1\n",
    "\n",
    "\n",
    "# Method 4:\n",
    "def fib3(n):\n",
    "    a, b = 1, 1\n",
    "    while n > 1:\n",
    "        a, b = a+b, a\n",
    "        n -= 1\n",
    "    return a\n",
    "\n",
    "\n",
    "# Method 5:\n",
    "def fib4(n):\n",
    "    a, b = 1, 1\n",
    "    for _ in range(1,n):\n",
    "        a, b = a+b, a\n",
    "    return a\n",
    "\n",
    "\n",
    "# Calculate time:\n",
    "n = 10\n",
    "print([fib0(i) for i in range(n)])\n",
    "n = 20"
   ]
  },
  {
   "cell_type": "code",
   "execution_count": 7,
   "metadata": {},
   "outputs": [
    {
     "name": "stdout",
     "output_type": "stream",
     "text": [
      "1.68 ms ± 25.9 µs per loop (mean ± std. dev. of 3 runs, 100 loops each)\n"
     ]
    }
   ],
   "source": [
    "%timeit -n 100 -r 3 fib0(n)"
   ]
  },
  {
   "cell_type": "code",
   "execution_count": 8,
   "metadata": {},
   "outputs": [
    {
     "name": "stdout",
     "output_type": "stream",
     "text": [
      "1.68 ms ± 32.5 µs per loop (mean ± std. dev. of 3 runs, 100 loops each)\n"
     ]
    }
   ],
   "source": [
    "%timeit -n 100 -r 3 fib1(n)"
   ]
  },
  {
   "cell_type": "code",
   "execution_count": 9,
   "metadata": {},
   "outputs": [
    {
     "name": "stdout",
     "output_type": "stream",
     "text": [
      "1.86 ms ± 119 µs per loop (mean ± std. dev. of 3 runs, 100 loops each)\n"
     ]
    }
   ],
   "source": [
    "%timeit -n 100 -r 3 fib2(n)"
   ]
  },
  {
   "cell_type": "code",
   "execution_count": 10,
   "metadata": {},
   "outputs": [
    {
     "name": "stdout",
     "output_type": "stream",
     "text": [
      "1.18 µs ± 5.83 ns per loop (mean ± std. dev. of 3 runs, 100 loops each)\n"
     ]
    }
   ],
   "source": [
    "%timeit -n 100 -r 3 fib3(n)"
   ]
  },
  {
   "cell_type": "code",
   "execution_count": 11,
   "metadata": {},
   "outputs": [
    {
     "name": "stdout",
     "output_type": "stream",
     "text": [
      "983 ns ± 11 ns per loop (mean ± std. dev. of 3 runs, 100 loops each)\n"
     ]
    }
   ],
   "source": [
    "%timeit -n 100 -r 3 fib4(n)"
   ]
  },
  {
   "cell_type": "markdown",
   "metadata": {},
   "source": [
    "**Q.2:** Работа со списками. Что будет выведено на консоль?\n",
    "\n",
    "```python\n",
    "class A:\n",
    "    t = []\n",
    "\n",
    "a, b = A(), A()\n",
    "a.t.append(10)\n",
    "b.t.append('hello')\n",
    "print(a.t)\n",
    "print(b.t)\n",
    "```"
   ]
  },
  {
   "cell_type": "code",
   "execution_count": 12,
   "metadata": {},
   "outputs": [
    {
     "name": "stdout",
     "output_type": "stream",
     "text": [
      "[10, 'hello']\n",
      "[10, 'hello']\n"
     ]
    }
   ],
   "source": [
    "class A:\n",
    "    t = []\n",
    "\n",
    "    \n",
    "a, b = A(), A()\n",
    "a.t.append(10)\n",
    "b.t.append('hello')\n",
    "print(a.t)\n",
    "print(b.t)"
   ]
  },
  {
   "cell_type": "markdown",
   "metadata": {},
   "source": [
    "**Q.3:** Каков результат выполнения следующего кода?\n",
    "\n",
    "1) \n",
    "```python\n",
    "a = []\n",
    "try:\n",
    "    print(a and 1/0)\n",
    "except:\n",
    "    print('Error')\n",
    "```\n",
    "\n",
    "2) \n",
    "\n",
    "```python\n",
    "a = []\n",
    "try:\n",
    "    print(a and 1/0)\n",
    "except:\n",
    "    print('Error')\n",
    "```"
   ]
  },
  {
   "cell_type": "code",
   "execution_count": 13,
   "metadata": {},
   "outputs": [
    {
     "name": "stdout",
     "output_type": "stream",
     "text": [
      "[]\n"
     ]
    }
   ],
   "source": [
    "a = []\n",
    "try:\n",
    "    print(a and 1/0)\n",
    "except:\n",
    "    print('Error')"
   ]
  },
  {
   "cell_type": "code",
   "execution_count": 14,
   "metadata": {},
   "outputs": [
    {
     "name": "stdout",
     "output_type": "stream",
     "text": [
      "Error\n"
     ]
    }
   ],
   "source": [
    "a = []\n",
    "try:\n",
    "    print(a or 1/0)\n",
    "except:\n",
    "    print('Error')"
   ]
  },
  {
   "cell_type": "markdown",
   "metadata": {},
   "source": [
    "**Q.2**: Какое число будет выведено на экран?\n",
    "\n",
    "```python\n",
    "a = list(range(5))\n",
    "b = sum(a + [a[-1]])\n",
    "print(b)\n",
    "```\n",
    "\n",
    "А в этом случае?\n",
    "\n",
    "```python\n",
    "c = a\n",
    "c.append(10)\n",
    "d = sum(a + [c[-1]])\n",
    "print(d)\n",
    "```"
   ]
  },
  {
   "cell_type": "code",
   "execution_count": 15,
   "metadata": {},
   "outputs": [
    {
     "name": "stdout",
     "output_type": "stream",
     "text": [
      "14\n",
      "20\n"
     ]
    }
   ],
   "source": [
    "# First list\n",
    "a = list(range(5))\n",
    "b = sum(a + [a[-1]])\n",
    "print(b)\n",
    "\n",
    "# Second list\n",
    "c = a\n",
    "c.append(5)\n",
    "d = sum(a + [c[-1]])\n",
    "print(d)"
   ]
  },
  {
   "cell_type": "markdown",
   "metadata": {},
   "source": [
    "**Q.3**: Даны начальные значения для функции. Что будет выведено на консоль?\n",
    "\n",
    "```python\n",
    "def func(*args, lo=None):\n",
    "    res = 0\n",
    "    for i in args:\n",
    "        if not lo or i > lo:\n",
    "            res += i\n",
    "        else:\n",
    "            res += lo\n",
    "    return res/len(args)\n",
    "```"
   ]
  },
  {
   "cell_type": "code",
   "execution_count": 16,
   "metadata": {},
   "outputs": [
    {
     "name": "stdout",
     "output_type": "stream",
     "text": [
      "2.5\n",
      "5.0\n"
     ]
    }
   ],
   "source": [
    "def func(*args, lo=None):\n",
    "    res = 0\n",
    "    for i in args:\n",
    "        if not lo or i > lo:\n",
    "            res += i\n",
    "        else:\n",
    "            res += lo\n",
    "    return res/len(args)\n",
    "\n",
    "print(func(*range(1,5)))\n",
    "print(func(1, 2, 3, 4, lo=5))"
   ]
  },
  {
   "cell_type": "markdown",
   "metadata": {},
   "source": [
    "**Q.4**: Каков результат выполнения следующей функции?\n",
    "\n",
    "```python\n",
    "''.join(map(str, range(5)))\n",
    "```"
   ]
  },
  {
   "cell_type": "code",
   "execution_count": 17,
   "metadata": {},
   "outputs": [
    {
     "data": {
      "text/plain": [
       "'01234'"
      ]
     },
     "execution_count": 17,
     "metadata": {},
     "output_type": "execute_result"
    }
   ],
   "source": [
    "''.join(map(str, range(5)))"
   ]
  },
  {
   "cell_type": "markdown",
   "metadata": {},
   "source": [
    "**Q.5**: Каков результат выполнения следующей функции?\n",
    "\n",
    "```python\n",
    "def split(x):\n",
    "    for i in x.split():\n",
    "        yield i\n",
    "\n",
    "t = 'a b c d'\n",
    "x = split(t)\n",
    "print([i for i in x])\n",
    "print([i for i in x])\n",
    "```"
   ]
  },
  {
   "cell_type": "code",
   "execution_count": 18,
   "metadata": {},
   "outputs": [
    {
     "name": "stdout",
     "output_type": "stream",
     "text": [
      "['a', 'b', 'c', 'd']\n",
      "[]\n"
     ]
    }
   ],
   "source": [
    "def split(x):\n",
    "    for i in x.split():\n",
    "        yield i\n",
    "\n",
    "t = 'a b c d'\n",
    "x = split(t)\n",
    "print([i for i in x])\n",
    "print([i for i in x])"
   ]
  },
  {
   "cell_type": "markdown",
   "metadata": {},
   "source": [
    "**Q.6**: Декораторы. Что будет выведено на экран?\n",
    "\n",
    "```python\n",
    "def func(cl):\n",
    "    inst = {}\n",
    "    \n",
    "    def get_inst(*args, **kwargs):\n",
    "        if cl not in inst:\n",
    "            inst[cl] = cl(*args, **kwargs)\n",
    "        return inst[cl]\n",
    "    return get_inst\n",
    "\n",
    "\n",
    "@func\n",
    "class Vocabulary:\n",
    "    def __init__(self, voc={}):\n",
    "        self.voc = voc\n",
    "    \n",
    "    def add(self, key, val):\n",
    "        self.voc[key] = val\n",
    "\n",
    "# Two objects: \n",
    "voc1 = Vocabulary({'a': 1, 'b': 2, 'c': 3})\n",
    "voc2 = Vocabulary({'d': 4, 'e': 5, 'f': 6})\n",
    "print(voc1.voc)\n",
    "print(voc2.voc)\n",
    "\n",
    "# Add new element to dict\n",
    "voc2.add('g', 7)\n",
    "\n",
    "# Compare dicts\n",
    "print(voc2 is voc1)\n",
    "print(voc1.voc == voc2.voc)\n",
    "```"
   ]
  },
  {
   "cell_type": "code",
   "execution_count": 19,
   "metadata": {},
   "outputs": [
    {
     "name": "stdout",
     "output_type": "stream",
     "text": [
      "{'a': 1, 'b': 2, 'c': 3}\n",
      "{'a': 1, 'b': 2, 'c': 3}\n",
      "{'a': 1, 'b': 2, 'c': 3, 'g': 7}\n",
      "{'a': 1, 'b': 2, 'c': 3, 'g': 7}\n",
      "True\n",
      "True\n"
     ]
    }
   ],
   "source": [
    "def func(cl):\n",
    "    inst = {}\n",
    "    \n",
    "    def get_inst(*args, **kwargs):\n",
    "        if cl not in inst:\n",
    "            inst[cl] = cl(*args, **kwargs)\n",
    "        return inst[cl]\n",
    "    return get_inst\n",
    "\n",
    "\n",
    "@func\n",
    "class Vocabulary:\n",
    "    def __init__(self, voc={}):\n",
    "        self.voc = voc\n",
    "    \n",
    "    def add(self, key, val):\n",
    "        self.voc[key] = val\n",
    "\n",
    "# Two objects: \n",
    "voc1 = Vocabulary({'a': 1, 'b': 2, 'c': 3})\n",
    "voc2 = Vocabulary({'d': 4, 'e': 5, 'f': 6})\n",
    "print(voc1.voc)\n",
    "print(voc2.voc)\n",
    "\n",
    "# Add new element to dict\n",
    "voc2.add('g', 7)\n",
    "print(voc1.voc)\n",
    "print(voc2.voc)\n",
    "\n",
    "# Compare dicts\n",
    "print(voc2 is voc1)\n",
    "print(voc1.voc == voc2.voc)"
   ]
  },
  {
   "cell_type": "code",
   "execution_count": null,
   "metadata": {},
   "outputs": [],
   "source": []
  }
 ],
 "metadata": {
  "kernelspec": {
   "display_name": "Python 3",
   "language": "python",
   "name": "python3"
  },
  "language_info": {
   "codemirror_mode": {
    "name": "ipython",
    "version": 3
   },
   "file_extension": ".py",
   "mimetype": "text/x-python",
   "name": "python",
   "nbconvert_exporter": "python",
   "pygments_lexer": "ipython3",
   "version": "3.6.7"
  }
 },
 "nbformat": 4,
 "nbformat_minor": 2
}
